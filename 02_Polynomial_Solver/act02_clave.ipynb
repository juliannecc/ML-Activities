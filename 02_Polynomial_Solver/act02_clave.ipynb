{
  "cells": [
    {
      "cell_type": "markdown",
      "metadata": {
        "id": "K6ccnbxRCYFz"
      },
      "source": [
        "# Polynomial Solver using SGD and TinyGrad\n"
      ]
    },
    {
      "cell_type": "markdown",
      "metadata": {
        "id": "p3sxWhbDC0QV"
      },
      "source": [
        "### Library Installs and Imports"
      ]
    },
    {
      "cell_type": "code",
      "execution_count": 399,
      "metadata": {
        "colab": {
          "base_uri": "https://localhost:8080/"
        },
        "id": "JHaF9ONkCU2X",
        "outputId": "cedec742-bb8b-40f6-f7a7-af8e939d9360"
      },
      "outputs": [
        {
          "output_type": "stream",
          "name": "stdout",
          "text": [
            "Python 3.8.16\n"
          ]
        }
      ],
      "source": [
        "!python3 --version"
      ]
    },
    {
      "cell_type": "markdown",
      "metadata": {
        "id": "pgIS0-I_Kp-G"
      },
      "source": [
        "Installing tinygrad and tdqm"
      ]
    },
    {
      "cell_type": "code",
      "execution_count": 400,
      "metadata": {
        "id": "ZRctf0Jmv6P2",
        "colab": {
          "base_uri": "https://localhost:8080/"
        },
        "outputId": "2be6a4a2-0e2d-464a-bd69-25dffc9ee12f"
      },
      "outputs": [
        {
          "output_type": "stream",
          "name": "stdout",
          "text": [
            "Looking in indexes: https://pypi.org/simple, https://us-python.pkg.dev/colab-wheels/public/simple/\n",
            "Collecting git+https://github.com/geohot/tinygrad.git\n",
            "  Cloning https://github.com/geohot/tinygrad.git to /tmp/pip-req-build-t24ttawq\n",
            "  Running command git clone -q https://github.com/geohot/tinygrad.git /tmp/pip-req-build-t24ttawq\n",
            "Requirement already satisfied: numpy in /usr/local/lib/python3.8/dist-packages (from tinygrad==0.4.0) (1.21.6)\n",
            "Requirement already satisfied: requests in /usr/local/lib/python3.8/dist-packages (from tinygrad==0.4.0) (2.23.0)\n",
            "Requirement already satisfied: pillow in /usr/local/lib/python3.8/dist-packages (from tinygrad==0.4.0) (7.1.2)\n",
            "Requirement already satisfied: networkx in /usr/local/lib/python3.8/dist-packages (from tinygrad==0.4.0) (2.8.8)\n",
            "Requirement already satisfied: idna<3,>=2.5 in /usr/local/lib/python3.8/dist-packages (from requests->tinygrad==0.4.0) (2.10)\n",
            "Requirement already satisfied: certifi>=2017.4.17 in /usr/local/lib/python3.8/dist-packages (from requests->tinygrad==0.4.0) (2022.12.7)\n",
            "Requirement already satisfied: urllib3!=1.25.0,!=1.25.1,<1.26,>=1.21.1 in /usr/local/lib/python3.8/dist-packages (from requests->tinygrad==0.4.0) (1.24.3)\n",
            "Requirement already satisfied: chardet<4,>=3.0.2 in /usr/local/lib/python3.8/dist-packages (from requests->tinygrad==0.4.0) (3.0.4)\n",
            "Looking in indexes: https://pypi.org/simple, https://us-python.pkg.dev/colab-wheels/public/simple/\n",
            "Requirement already satisfied: tdqm in /usr/local/lib/python3.8/dist-packages (0.0.1)\n",
            "Requirement already satisfied: tqdm in /usr/local/lib/python3.8/dist-packages (from tdqm) (4.64.1)\n"
          ]
        }
      ],
      "source": [
        "!pip install git+https://github.com/geohot/tinygrad.git\n",
        "!pip install tdqm"
      ]
    },
    {
      "cell_type": "markdown",
      "metadata": {
        "id": "oXOyh2qOKuwJ"
      },
      "source": [
        "Importing necessary modules"
      ]
    },
    {
      "cell_type": "code",
      "execution_count": 401,
      "metadata": {
        "id": "Tzb6TjQME7TR"
      },
      "outputs": [],
      "source": [
        "from tinygrad.tensor import Tensor\n",
        "import tinygrad.nn.optim as optim\n",
        "\n",
        "import numpy as np\n",
        "import pandas as pd\n",
        "import matplotlib.pyplot as plt\n",
        "from sklearn.model_selection import train_test_split\n",
        "import sklearn.metrics as metrics\n",
        "from tqdm import tqdm\n",
        "from operator import itemgetter"
      ]
    },
    {
      "cell_type": "markdown",
      "metadata": {
        "id": "cGeAPo4DKAAy"
      },
      "source": [
        "### Data preprocessing\n"
      ]
    },
    {
      "cell_type": "markdown",
      "metadata": {
        "id": "oIEoA56sKdPf"
      },
      "source": [
        "Importing data_train.csv and data_test.csv from Github. The values given in data_train.csv will serve as training data while the values given in our data_test.csv will serve as testing data."
      ]
    },
    {
      "cell_type": "code",
      "execution_count": 402,
      "metadata": {
        "id": "cE7-RG4Zwajj"
      },
      "outputs": [],
      "source": [
        "data_train_raw = \"https://raw.githubusercontent.com/juliannecc/ML-Activities/main/02_Polynomial_Solver/data_train.csv\"\n",
        "data_test_raw = \"https://raw.githubusercontent.com/juliannecc/ML-Activities/main/02_Polynomial_Solver/data_test.csv\"\n",
        "\n",
        "data_train = pd.read_csv(data_train_raw)\n",
        "data_test = pd.read_csv(data_test_raw)"
      ]
    },
    {
      "cell_type": "markdown",
      "metadata": {
        "id": "qHhuFls_31Xf"
      },
      "source": [
        "Getting validation data from training data. This validation data is used to tune our prediction. "
      ]
    },
    {
      "cell_type": "code",
      "execution_count": 403,
      "metadata": {
        "id": "iqJiaqrS38L2"
      },
      "outputs": [],
      "source": [
        "X_train, X_validate, Y_train, Y_validate = train_test_split([[i] for i in data_train[\"x\"]], [[i] for i in data_train[\"y\"]], test_size=0.15, random_state=42)\n",
        "X_test, Y_test = [[i] for i in data_test[\"x\"]], [[i] for i in data_test[\"y\"]]"
      ]
    },
    {
      "cell_type": "markdown",
      "metadata": {
        "id": "d1Gg_OrXPAFn"
      },
      "source": [
        "Visualizing data_train, data_validate and data_test."
      ]
    },
    {
      "cell_type": "code",
      "execution_count": 404,
      "metadata": {
        "colab": {
          "base_uri": "https://localhost:8080/",
          "height": 545
        },
        "id": "7jiXXInN436_",
        "outputId": "1f09bdd8-b86c-491b-a1e1-b5342abd668e"
      },
      "outputs": [
        {
          "output_type": "display_data",
          "data": {
            "text/plain": [
              "<Figure size 432x288 with 2 Axes>"
            ],
            "image/png": "[encoded data removed]"
          },
          "metadata": {
            "needs_background": "light"
          }
        },
        {
          "output_type": "display_data",
          "data": {
            "text/plain": [
              "<Figure size 432x288 with 2 Axes>"
            ],
            "image/png": "[encoded data removed]"
          },
          "metadata": {
            "needs_background": "light"
          }
        }
      ],
      "source": [
        "fig, (ax1,ax2) = plt.subplots(1, 2)\n",
        "ax1.scatter(X_train, Y_train)\n",
        "ax1.set_title('train data')\n",
        "\n",
        "ax2.scatter(X_validate, Y_validate)\n",
        "ax2.set_title('validate data')\n",
        "\n",
        "plt.savefig(\"train-validate.png\")\n",
        "plt.show()\n",
        "\n",
        "fig, (ax1,ax2) = plt.subplots(1, 2)\n",
        "ax1.scatter(X_test, Y_test)\n",
        "ax1.set_title('test data')\n",
        "\n",
        "ax2.scatter(X_test, Y_test)\n",
        "ax2.scatter(X_train, Y_train)\n",
        "ax2.set_title('train & test data')\n",
        "\n",
        "plt.savefig(\"test-train_and_test.png\")\n",
        "plt.show()"
      ]
    },
    {
      "cell_type": "markdown",
      "metadata": {
        "id": "02FOaCNzXfPn"
      },
      "source": [
        "### Model Building, Training and Validation"
      ]
    },
    {
      "cell_type": "markdown",
      "metadata": {
        "id": "dP7zFsGkviZc"
      },
      "source": [
        "Creating a model class responsible for forward propagation and random polynomial initialization (first prediction).\n",
        "\n"
      ]
    },
    {
      "cell_type": "code",
      "execution_count": 405,
      "metadata": {
        "id": "NHIPDRSCrvjy"
      },
      "outputs": [],
      "source": [
        "class Model:\n",
        "  def __init__(self, pol_deg):\n",
        "    \"\"\" Generates a random polynomial \"\"\"\n",
        "    self.poly = [Tensor([np.array([np.random.uniform(-1,1)])], requires_grad=True) for i in range(pol_deg+1)]\n",
        "\n",
        "  def load_polynomial(self, polynomial):\n",
        "    \"\"\" Loads the given polynomial \"\"\"\n",
        "    self.poly = [Tensor([np.array(coeff)], requires_grad = True) for coeff in polynomial]\n",
        "\n",
        "  def reshaped_tensor(self):\n",
        "    \"\"\" Reshapes the tensor polynomial \"\"\"\n",
        "    reshaped_tensor = self.poly[0]\n",
        "    [reshaped_tensor := reshaped_tensor.cat(self.poly[i]) for i in range(1,len(self.poly))]\n",
        "    return reshaped_tensor\n",
        "  \n",
        "  def forward_pass(self,x):\n",
        "    \"\"\" Forward Propagation \"\"\"\n",
        "    return x.matmul(self.reshaped_tensor()).sum(axis=1)  \n",
        "\n",
        "  def get_polynomial(self):\n",
        "    \"\"\" Returns the polynomial \"\"\"\n",
        "    return [i.data[0] for i in self.poly]"
      ]
    },
    {
      "cell_type": "markdown",
      "source": [
        "Creating a function to calculate MSE loss on tensors:\n",
        "\n",
        "$$\n",
        "MSE = \\frac{1}{n} \\sum_i (y_{pred} - y_{GT})^2\n",
        "$$"
      ],
      "metadata": {
        "id": "lFrqwBIAK0CD"
      }
    },
    {
      "cell_type": "code",
      "source": [
        "def calc_mse(y_pred,y_gt):\n",
        "  return (y_gt-y_pred).square().mean()"
      ],
      "metadata": {
        "id": "mNxmZ608K21X"
      },
      "execution_count": 406,
      "outputs": []
    },
    {
      "cell_type": "markdown",
      "source": [
        "Creating a [loader](https://www.leaky.ai/dataloader) class for setting batches and getting polynomial features. These features will help better our prediction as it contain varying degrees. \n",
        "\n",
        "Take Note: \n",
        "$$\n",
        "h_\\theta (x) = \\sum^n_{k=0} \\theta_kx^k \\\\ \n",
        "\\begin{bmatrix} y^{(1)} \\\\ y^{(2)} \\\\ \\vdots \\\\ y^{(m)}\\end{bmatrix} = \\begin{bmatrix} 1 & x_1 & x_1^2 & \\cdots & x_1^n \\\\ 1 & x_2 & x_2^2 & \\cdots & x_2^n \\\\ \\vdots & \\vdots & \\vdots & \\vdots & \\vdots \\\\ 1 & x_m & x^2_m & \\cdots & x^n_m & \\end{bmatrix} \\begin{bmatrix} \\theta_0 \\\\ \\theta_1 \\\\ \\vdots \\\\ \\theta_n \\end{bmatrix} + ϵ \n",
        "$$\n",
        "\n",
        "(equation from [[1]](https://www.youtube.com/watch?v=5NMAjtRHphc&t=191s))"
      ],
      "metadata": {
        "id": "7W8WYDFeQvM4"
      }
    },
    {
      "cell_type": "code",
      "source": [
        "class Loader:\n",
        "  def __init__(self, X, Y, batch_size=64, shuffle = True, polyfeatures=True, degree=4):\n",
        "    self.X = X\n",
        "    self.Y = Y\n",
        "    self.batch_size = batch_size\n",
        "    self.polyfeatures = polyfeatures\n",
        "    self.degree = degree\n",
        "    self.shuffle = shuffle\n",
        "\n",
        "  def __iter__(self): \n",
        "    if self.shuffle: self.shuffle_data()\n",
        "    # https://stackoverflow.com/questions/8290397/how-to-split-an-iterable-in-constant-size-chunks\n",
        "    for i in range(0, len(self.X),self.batch_size):\n",
        "      X_batch = self.X[i:min(i + self.batch_size, len(self.X))]\n",
        "      Y_batch = self.Y[i:min(i + self.batch_size, len(self.X))]\n",
        "      if self.polyfeatures: X_batch = self.get_feats(X_batch)\n",
        "      yield X_batch, Y_batch\n",
        "\n",
        "  def get_feats(self, x):\n",
        "    # https://rickwierenga.com/blog/ml-fundamentals/polynomial-regression.html\n",
        "    b = np.hstack((np.ones((len(x), 1)),x))\n",
        "    feats = np.hstack([((b[:,1] ** i).reshape((len(x),1))) for i in range(self.degree+1)])\n",
        "    # feats[:, 1:] = (feats[:, 1:] - np.mean(feats[:, 1:], axis=0)) / np.std(feats[:, 1:], axis=0)\n",
        "\n",
        "    feats_tensor = Tensor(feats, requires_grad = False)\n",
        "    return feats_tensor\n",
        "\n",
        "  # https://stackoverflow.com/questions/32019398/python-sorting-y-value-array-according-to-ascending-x-array\n",
        "  def unshuffle_data(self):\n",
        "    L = sorted(zip(self.X,self.Y), key=itemgetter(0))\n",
        "    self.X, self.Y = zip(*L)\n",
        "\n",
        "  def shuffle_data(self):\n",
        "    x_shuffled = []\n",
        "    y_shuffled = []\n",
        "\n",
        "    i = np.random.permutation(len(self.X))\n",
        "    for idx in range(len(self.X)):\n",
        "      x_shuffled.insert(i[idx],self.X[idx])\n",
        "      y_shuffled.insert(i[idx],self.Y[idx])\n",
        "    self.X = x_shuffled\n",
        "    self.Y = y_shuffled"
      ],
      "metadata": {
        "id": "5--lUQ3ZfowM"
      },
      "execution_count": 407,
      "outputs": []
    },
    {
      "cell_type": "markdown",
      "metadata": {
        "id": "m1HEqnuSE4gc"
      },
      "source": [
        "Setting hyperparameters"
      ]
    },
    {
      "cell_type": "code",
      "source": [
        "epochs = 200\n",
        "batch_size = 64\n",
        "learning_rate = [0.0003, 0.00003, 0.000003, 0.00000003, 0.0000000003]"
      ],
      "metadata": {
        "id": "4uKgSwIStBDz"
      },
      "execution_count": 408,
      "outputs": []
    },
    {
      "cell_type": "markdown",
      "source": [
        "Training the model with regularization. \n",
        "\n",
        "$$\n",
        "|x|=\\sqrt{\\sum^n_{k=1}|x_k|^2}\n",
        "$$\n",
        "\n",
        "See [[2]](https://www.cs.toronto.edu/~rgrosse/courses/csc411_f18/slides/lec06-slides.pdf) and [[3]](https://www.cs.toronto.edu/~rgrosse/courses/csc411_f18/slides/lec06-slides.pdf)"
      ],
      "metadata": {
        "id": "O4N0D2hRtBXL"
      }
    },
    {
      "cell_type": "markdown",
      "source": [
        "Model training and validation "
      ],
      "metadata": {
        "id": "Gf-8iXVvbRHc"
      }
    },
    {
      "cell_type": "code",
      "execution_count": 409,
      "metadata": {
        "colab": {
          "base_uri": "https://localhost:8080/"
        },
        "id": "jT8cbZDxGXU_",
        "outputId": "f1efcbbe-930f-4286-a4a8-58bef78da49b"
      },
      "outputs": [
        {
          "output_type": "stream",
          "name": "stderr",
          "text": [
            "100%|██████████| 200/200 [00:27<00:00,  7.21it/s]\n",
            "100%|██████████| 200/200 [00:13<00:00, 14.63it/s]\n",
            "100%|██████████| 200/200 [00:11<00:00, 17.71it/s]\n",
            "100%|██████████| 200/200 [00:09<00:00, 21.92it/s]\n"
          ]
        }
      ],
      "source": [
        "best_models = []\n",
        "losses = []\n",
        "\n",
        "# iterating through degrees 1-4 to find the model with the least loss\n",
        "for degree in range (4,0,-1):\n",
        "  model = Model(degree) # initialize first prediction\n",
        "  optimizer = optim.SGD(model.poly, lr=learning_rate[degree])\n",
        "\n",
        "  # load train and validate data\n",
        "  train = Loader(X_train, Y_train, batch_size, True, True, degree)\n",
        "  validate = Loader(X_validate, Y_validate, batch_size, False, True, degree)\n",
        "\n",
        "  # Reguralization Parameter\n",
        "  alpha = 0.5\n",
        "\n",
        "  best = []\n",
        "  bestloss = None\n",
        "\n",
        "  for epoch in tqdm(range(epochs)):\n",
        "\n",
        "    for x, y in train:\n",
        "      out = model.forward_pass(x).reshape(-1,1)\n",
        "      # Penalty term to prevent overfitting  https://www.youtube.com/watch?v=KpBmD3bLfX4\n",
        "      l2_pen = alpha * model.reshaped_tensor()[1:].mul(model.reshaped_tensor()[1:]).sqrt().sum()\n",
        "      loss = calc_mse(y, out) + l2_pen\n",
        "      optimizer.zero_grad()\n",
        "      loss.backward()\n",
        "      optimizer.step()\n",
        "\n",
        "    validate_loss = 0\n",
        "    for x, y in validate:\n",
        "      out = model.forward_pass(x).reshape(-1,1)\n",
        "      vloss = calc_mse(y, out).data[0]\n",
        "      validate_loss += vloss*len(out.data[0])\n",
        "    \n",
        "    validate_loss /= len(train.X)\n",
        "\n",
        "    # gets the model with the least loss \n",
        "    if bestloss is None:\n",
        "      bestloss = validate_loss\n",
        "    else:\n",
        "      if bestloss > validate_loss:\n",
        "        bestloss = validate_loss\n",
        "        best = [c[0] for c in model.get_polynomial()]\n",
        "\n",
        "  # appends the model to best_models regardless of degree\n",
        "  best_models.append([c[0] for c in model.get_polynomial()])\n",
        "  losses.append(bestloss)"
      ]
    },
    {
      "cell_type": "markdown",
      "source": [
        "Getting the best model based on the computed losses. "
      ],
      "metadata": {
        "id": "WCqoxOnJgqnb"
      }
    },
    {
      "cell_type": "code",
      "source": [
        "# getting the model with the least loss considering the degree\n",
        "best_coeffs = best_models[losses.index(min(losses))]\n",
        "print(f\"Best Coefficients: {best_coeffs}\")"
      ],
      "metadata": {
        "colab": {
          "base_uri": "https://localhost:8080/"
        },
        "id": "6wRJNDH8guek",
        "outputId": "a906b2be-8fa4-476b-af26-18407026a11a"
      },
      "execution_count": 410,
      "outputs": [
        {
          "output_type": "stream",
          "name": "stdout",
          "text": [
            "Best Coefficients: [0.16137871, 0.24552433, -0.33745804, -1.941491, 0.10375239]\n"
          ]
        }
      ]
    },
    {
      "cell_type": "markdown",
      "source": [
        "### Model Testing"
      ],
      "metadata": {
        "id": "Gag_c91GfjDE"
      }
    },
    {
      "cell_type": "markdown",
      "source": [
        "Visualizing model's prediction against given training and testing data."
      ],
      "metadata": {
        "id": "G0oI0qargPDo"
      }
    },
    {
      "cell_type": "code",
      "source": [
        "best_model = Model(len(best_coeffs)-1)\n",
        "best_model.load_polynomial(np.array(best_coeffs).reshape(-1,1))\n",
        "\n",
        "train = Loader(X_train, Y_train, 64, False, True, len(best_coeffs)-1)\n",
        "train.unshuffle_data()\n",
        "\n",
        "X_train_pred = np.linspace(min(X_train), max(X_train), len(X_train))\n",
        "Y_train_pred = best_model.forward_pass(train.get_feats(train.X)).reshape(-1, 1)\n",
        "plt.scatter(X_train,Y_train)\n",
        "plt.plot(X_train_pred, Y_train_pred.data, color='red')\n",
        "plt.title(\"train data vs prediction\")\n",
        "plt.legend(['train data', 'prediction'])\n",
        "plt.show()\n",
        "\n",
        "test = Loader(X_test,Y_test,64, False, True, len(best_coeffs)-1)\n",
        "X_test_pred = np.linspace(min(X_test), max(X_test), len(X_test)).reshape(-1, 1)\n",
        "Y_test_pred = best_model.forward_pass(test.get_feats(X_test)).reshape(-1, 1)\n",
        "\n",
        "plt.scatter(X_test, Y_test)\n",
        "plt.plot(X_test_pred, Y_test_pred.data, color='red')\n",
        "plt.title(\"test data vs prediction\")\n",
        "plt.legend(['test data', 'prediction'])\n",
        "plt.show()"
      ],
      "metadata": {
        "colab": {
          "base_uri": "https://localhost:8080/",
          "height": 545
        },
        "id": "5djOWZKPe2LU",
        "outputId": "ffc9a389-7b38-442a-c534-c78205c5e87e"
      },
      "execution_count": 411,
      "outputs": [
        {
          "output_type": "display_data",
          "data": {
            "text/plain": [
              "<Figure size 432x288 with 1 Axes>"
            ],
            "image/png": "[encoded data removed]"
          },
          "metadata": {
            "needs_background": "light"
          }
        },
        {
          "output_type": "display_data",
          "data": {
            "text/plain": [
              "<Figure size 432x288 with 1 Axes>"
            ],
            "image/png": "[encoded data removed]"
          },
          "metadata": {
            "needs_background": "light"
          }
        }
      ]
    },
    {
      "cell_type": "markdown",
      "source": [
        "Checking model accuracy on testing and training data using $R^2$ metric. \n",
        "\n",
        "$R^2$ tells how well predictor variables can explain the variation from actual data. This value ranges from 0 to 1 and the higher the value the better. [[4]](https://www.statology.org/rmse-vs-r-squared/)\n",
        "\n"
      ],
      "metadata": {
        "id": "RtVaMa10KO5M"
      }
    },
    {
      "cell_type": "code",
      "source": [
        "# https://www.datatechnotes.com/2019/10/accuracy-check-in-python-mae-mse-rmse-r.html\n",
        "\n",
        "# Training data Y_train_pred\n",
        "train = Loader(X_train, Y_train, 64, False, True, len(best_coeffs)-1)\n",
        "train.unshuffle_data()\n",
        "\n",
        "Y_train_pred = best_model.forward_pass(train.get_feats(X_train))\n",
        "train_mse = metrics.mean_squared_error(Y_train, Y_train_pred.data)\n",
        "train_r2 = metrics.r2_score(Y_train, Y_train_pred.data)\n",
        "\n",
        "print(f\"train r2: {train_r2}\")\n",
        "# Testing data\n",
        "test_mse = metrics.mean_squared_error(Y_test, Y_test_pred.data)\n",
        "test_r2 = metrics.r2_score(Y_test, Y_test_pred.data)\n",
        "\n",
        "print(f\"test r2: {test_r2}\")"
      ],
      "metadata": {
        "colab": {
          "base_uri": "https://localhost:8080/"
        },
        "id": "dliW0uBCKWN3",
        "outputId": "4f0b2d7f-a8e4-4ae3-8276-a425f1a7bfb2"
      },
      "execution_count": 412,
      "outputs": [
        {
          "output_type": "stream",
          "name": "stdout",
          "text": [
            "train r2: 0.9993702087955111\n",
            "test r2: 0.9980709191226806\n"
          ]
        }
      ]
    },
    {
      "cell_type": "markdown",
      "source": [
        "### Resources "
      ],
      "metadata": {
        "id": "ZEBGf1e6bi6C"
      }
    },
    {
      "cell_type": "markdown",
      "source": [
        "[1] A. Bazzi, “Polynomial Regression with Broid | Dr. Ahmad Bazzi,” *YouTube*. Nov. 02, 2020. Accessed: Dec. 14, 2022. [YouTube Video]. Available: https://www.youtube.com/watch?v=5NMAjtRHphc&t=191s\n",
        "\n",
        "[2] University of Toronto. (2013). CSC 411 Lecture 6: Linear Regression. [Online]. Available: https://www.cs.toronto.edu/~rgrosse/courses/csc411_f18/slides/lec06-slides.pdf\n",
        "‌\n",
        "\n",
        "[3]\n",
        "Marton Trencseni, “PyTorch Basics: Solving the Ax=b matrix equation with gradient descent,” Bytepawn - Marton Trencseni, Feb. 07, 2019. https://bytepawn.com/pytorch-basics-solving-the-axb-matrix-equation-with-gradient-descent.html (accessed Dec. 15, 2022).\n",
        "\n",
        "[4]\n",
        "Zach, “RMSE vs. R-Squared: Which Metric Should You Use?,” *Statology*, Jun. 22, 2021. https://www.statology.org/rmse-vs-r-squared/ (accessed Dec. 16, 2022).‌"
      ],
      "metadata": {
        "id": "7Ynl_4_ThgDe"
      }
    }
  ],
  "metadata": {
    "accelerator": "GPU",
    "colab": {
      "provenance": []
    },
    "gpuClass": "standard",
    "kernelspec": {
      "display_name": "Python 3",
      "name": "python3"
    },
    "language_info": {
      "name": "python"
    }
  },
  "nbformat": 4,
  "nbformat_minor": 0
}